{
 "cells": [
  {
   "cell_type": "markdown",
   "id": "e0ae75c5",
   "metadata": {},
   "source": [
    "# Form Filler\n",
    "\n",
    "Goal:\n",
    "\n",
    "Goal: fill out and submit the booking request form at [https://www.thegoldbugs.com/](https://www.thegoldbugs.com/)\n",
    "\n",
    "- Text fields\n",
    "- Radio buttons\n",
    "- Checkboxes\n",
    "- Dropdowns"
   ]
  },
  {
   "cell_type": "code",
   "execution_count": 1,
   "id": "e1745022",
   "metadata": {},
   "outputs": [],
   "source": [
    "from selenium import webdriver\n",
    "from selenium.webdriver.chrome.service import Service\n",
    "from selenium.webdriver.common.by import By\n",
    "from settings import CHROMEDRIVER_PATH, GOLDBUGS_URL"
   ]
  },
  {
   "cell_type": "code",
   "execution_count": 2,
   "id": "05654899",
   "metadata": {},
   "outputs": [],
   "source": [
    "service = Service(executable_path=CHROMEDRIVER_PATH)\n",
    "driver = webdriver.Chrome(service=service)"
   ]
  },
  {
   "cell_type": "code",
   "execution_count": 3,
   "id": "bc0b0703",
   "metadata": {},
   "outputs": [],
   "source": [
    "driver.get(GOLDBUGS_URL)"
   ]
  },
  {
   "cell_type": "markdown",
   "id": "84249ad9",
   "metadata": {},
   "source": [
    "## Fill input data"
   ]
  },
  {
   "cell_type": "code",
   "execution_count": 4,
   "id": "8a11baf0",
   "metadata": {},
   "outputs": [],
   "source": [
    "form_container = driver.find_element(By.CSS_SELECTOR, 'div.field-list.clear')\n",
    "\n",
    "form_items = form_container.find_elements(By.CSS_SELECTOR, 'input')\n",
    "first_name = form_items[0]\n",
    "last_name = form_items[1]\n",
    "email = form_items[2]\n",
    "subject = form_items[3]\n",
    "message = form_container.find_element(By.CSS_SELECTOR, 'textarea')\n",
    "\n",
    "first_name.clear()\n",
    "first_name.send_keys('John')\n",
    "\n",
    "last_name.clear()\n",
    "last_name.send_keys('Doe')\n",
    "\n",
    "email.clear()\n",
    "email.send_keys('john@doe.com')\n",
    "\n",
    "subject.clear()\n",
    "subject.send_keys('Filling Form')\n",
    "\n",
    "message.clear()\n",
    "message.send_keys('Filling Form Message')"
   ]
  },
  {
   "cell_type": "markdown",
   "id": "06dcc991",
   "metadata": {},
   "source": [
    "# Radio & Checkbox"
   ]
  },
  {
   "cell_type": "code",
   "execution_count": 5,
   "id": "698700f7",
   "metadata": {},
   "outputs": [],
   "source": [
    "checkbox_container = form_container.find_element(By.CSS_SELECTOR, '.form-item.field.checkbox')\n",
    "checkboxes = checkbox_container.find_elements(By.CSS_SELECTOR, 'input[type=\"checkbox\"]')\n",
    "checkboxes[1].click()\n",
    "\n",
    "radio_container = form_container.find_element(By.CSS_SELECTOR, '.form-item.field.radio')\n",
    "radios = radio_container.find_elements(By.CSS_SELECTOR, 'input[type=\"radio\"]')\n",
    "radios[1].click()\n",
    "\n",
    "radio_container_survey = form_container.find_element(By.CSS_SELECTOR, '.form-item.field.likert')\n",
    "radios2 = radio_container_survey.find_elements(By.CSS_SELECTOR, 'input[type=\"radio\"]')\n",
    "radios2[1].click()"
   ]
  },
  {
   "cell_type": "markdown",
   "id": "d1d13dc6",
   "metadata": {},
   "source": [
    "## Selection"
   ]
  },
  {
   "cell_type": "code",
   "execution_count": 6,
   "id": "0e13d5fb",
   "metadata": {},
   "outputs": [],
   "source": [
    "from selenium.webdriver.support.ui import Select\n",
    "\n",
    "select_element = form_container.find_element(By.CSS_SELECTOR, 'select')\n",
    "select = Select(select_element)\n",
    "select.select_by_value('Facebook')"
   ]
  },
  {
   "cell_type": "markdown",
   "id": "cf0948fd",
   "metadata": {},
   "source": [
    "## Form Submit"
   ]
  },
  {
   "cell_type": "code",
   "execution_count": 7,
   "id": "94c500dc",
   "metadata": {},
   "outputs": [],
   "source": [
    "submit_button = driver.find_element(By.CSS_SELECTOR, 'input[type=\"submit\"]')\n",
    "submit_button.click()"
   ]
  },
  {
   "cell_type": "markdown",
   "id": "96b46a5c",
   "metadata": {},
   "source": [
    "## Quit session"
   ]
  },
  {
   "cell_type": "code",
   "execution_count": 8,
   "id": "e8c5c4d9",
   "metadata": {},
   "outputs": [],
   "source": [
    "driver.quit()"
   ]
  },
  {
   "cell_type": "code",
   "execution_count": null,
   "id": "cbbc2bfe",
   "metadata": {},
   "outputs": [],
   "source": []
  }
 ],
 "metadata": {
  "kernelspec": {
   "display_name": "Python 3 (ipykernel)",
   "language": "python",
   "name": "python3"
  },
  "language_info": {
   "codemirror_mode": {
    "name": "ipython",
    "version": 3
   },
   "file_extension": ".py",
   "mimetype": "text/x-python",
   "name": "python",
   "nbconvert_exporter": "python",
   "pygments_lexer": "ipython3",
   "version": "3.8.9"
  }
 },
 "nbformat": 4,
 "nbformat_minor": 5
}
