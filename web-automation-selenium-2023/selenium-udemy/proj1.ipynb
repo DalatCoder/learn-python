{
 "cells": [
  {
   "cell_type": "markdown",
   "id": "a3cd44da",
   "metadata": {},
   "source": [
    "# Scrap wikipedia\n",
    "\n",
    "All links from 4 sections:\n",
    "\n",
    "- From today's featured article\n",
    "- In the news\n",
    "- Did you know...\n",
    "- On this day"
   ]
  },
  {
   "cell_type": "markdown",
   "id": "0e86aafb",
   "metadata": {},
   "source": [
    "## Importing"
   ]
  },
  {
   "cell_type": "code",
   "execution_count": 1,
   "id": "77025df4",
   "metadata": {},
   "outputs": [],
   "source": [
    "from selenium import webdriver\n",
    "from selenium.webdriver.chrome.service import Service\n",
    "from selenium.webdriver.common.by import By\n",
    "from settings import CHROMEDRIVER_PATH, WIKIPEDIA_URL"
   ]
  },
  {
   "cell_type": "code",
   "execution_count": 2,
   "id": "65e54a27",
   "metadata": {},
   "outputs": [
    {
     "name": "stdout",
     "output_type": "stream",
     "text": [
      "/Users/dalatcoder/bin/chromedriver\n"
     ]
    }
   ],
   "source": [
    "print(CHROMEDRIVER_PATH)"
   ]
  },
  {
   "cell_type": "markdown",
   "id": "96c16809",
   "metadata": {},
   "source": [
    "## Driver setup"
   ]
  },
  {
   "cell_type": "code",
   "execution_count": 3,
   "id": "c6b344e3",
   "metadata": {},
   "outputs": [],
   "source": [
    "service = Service(executable_path=CHROMEDRIVER_PATH)\n",
    "driver = webdriver.Chrome(service=service)"
   ]
  },
  {
   "cell_type": "markdown",
   "id": "6fb29d10",
   "metadata": {},
   "source": [
    "## Get URL"
   ]
  },
  {
   "cell_type": "code",
   "execution_count": 4,
   "id": "8f45cde3",
   "metadata": {},
   "outputs": [],
   "source": [
    "driver.get(WIKIPEDIA_URL)"
   ]
  },
  {
   "cell_type": "markdown",
   "id": "c149a2a9",
   "metadata": {},
   "source": [
    "## Init data storage"
   ]
  },
  {
   "cell_type": "code",
   "execution_count": 22,
   "id": "760fcea9",
   "metadata": {},
   "outputs": [],
   "source": [
    "result = {\n",
    "    'today_featured': [],\n",
    "    'news': [],\n",
    "    'did_you_know': [],\n",
    "    'on_this_day': []\n",
    "}"
   ]
  },
  {
   "cell_type": "markdown",
   "id": "cf289f46",
   "metadata": {},
   "source": [
    "## Scrap `From today's featured article`"
   ]
  },
  {
   "cell_type": "code",
   "execution_count": 23,
   "id": "09e3c8b4",
   "metadata": {},
   "outputs": [],
   "source": [
    "container = driver.find_element(By.CSS_SELECTOR, '#mp-tfa')\n",
    "\n",
    "all_links = container.find_elements(By.CSS_SELECTOR, 'a')\n",
    "\n",
    "for link in all_links:\n",
    "    href = link.get_attribute('href')\n",
    "    title = link.get_attribute('title')\n",
    "    innerText = link.text\n",
    "    \n",
    "    if innerText == '':\n",
    "        continue\n",
    "    \n",
    "    result['today_featured'].append({\n",
    "        'title': title,\n",
    "        'href': href,\n",
    "        'text': innerText\n",
    "    })"
   ]
  },
  {
   "cell_type": "markdown",
   "id": "a81f127b",
   "metadata": {},
   "source": [
    "## Scrap `Did you know ...`"
   ]
  },
  {
   "cell_type": "code",
   "execution_count": 24,
   "id": "0db4ca20",
   "metadata": {},
   "outputs": [],
   "source": [
    "container = driver.find_element(By.CSS_SELECTOR, '#mp-dyk')\n",
    "\n",
    "all_links = container.find_elements(By.CSS_SELECTOR, 'a')\n",
    "\n",
    "for link in all_links:\n",
    "    href = link.get_attribute('href')\n",
    "    title = link.get_attribute('title')\n",
    "    innerText = link.text\n",
    "    \n",
    "    if innerText == '':\n",
    "        continue\n",
    "    \n",
    "    result['did_you_know'].append({\n",
    "        'title': title,\n",
    "        'href': href,\n",
    "        'text': innerText\n",
    "    })"
   ]
  },
  {
   "cell_type": "markdown",
   "id": "7942e483",
   "metadata": {},
   "source": [
    "# Scrap `In the news`"
   ]
  },
  {
   "cell_type": "code",
   "execution_count": 25,
   "id": "6fb10e42",
   "metadata": {},
   "outputs": [],
   "source": [
    "container = driver.find_element(By.CSS_SELECTOR, '#mp-itn')\n",
    "\n",
    "all_links = container.find_elements(By.CSS_SELECTOR, 'a')\n",
    "\n",
    "for link in all_links:\n",
    "    href = link.get_attribute('href')\n",
    "    title = link.get_attribute('title')\n",
    "    innerText = link.text\n",
    "    \n",
    "    if innerText == '':\n",
    "        continue\n",
    "    \n",
    "    result['news'].append({\n",
    "        'title': title,\n",
    "        'href': href,\n",
    "        'text': innerText\n",
    "    })"
   ]
  },
  {
   "cell_type": "markdown",
   "id": "e67d1edc",
   "metadata": {},
   "source": [
    "## Scrap `On this day`"
   ]
  },
  {
   "cell_type": "code",
   "execution_count": 27,
   "id": "ec781c92",
   "metadata": {},
   "outputs": [],
   "source": [
    "container = driver.find_element(By.CSS_SELECTOR, '#mp-otd')\n",
    "\n",
    "all_links = container.find_elements(By.CSS_SELECTOR, 'a')\n",
    "\n",
    "for link in all_links:\n",
    "    href = link.get_attribute('href')\n",
    "    title = link.get_attribute('title')\n",
    "    innerText = link.text\n",
    "    \n",
    "    if innerText == '':\n",
    "        continue\n",
    "    \n",
    "    result['on_this_day'].append({\n",
    "        'title': title,\n",
    "        'href': href,\n",
    "        'text': innerText\n",
    "    })"
   ]
  },
  {
   "cell_type": "markdown",
   "id": "7bf20338",
   "metadata": {},
   "source": [
    "## Summary"
   ]
  },
  {
   "cell_type": "code",
   "execution_count": 28,
   "id": "4d791215",
   "metadata": {},
   "outputs": [
    {
     "name": "stdout",
     "output_type": "stream",
     "text": [
      "Section today_featured has 27 link items.\n",
      "Section news has 27 link items.\n",
      "Section did_you_know has 20 link items.\n",
      "Section on_this_day has 29 link items.\n"
     ]
    }
   ],
   "source": [
    "for key, value in result.items():\n",
    "    print(f'Section {key} has {len(result[key])} link items.')"
   ]
  },
  {
   "cell_type": "markdown",
   "id": "7b4d4a9a",
   "metadata": {},
   "source": [
    "## Quit"
   ]
  },
  {
   "cell_type": "code",
   "execution_count": 29,
   "id": "82e441ba",
   "metadata": {},
   "outputs": [],
   "source": [
    "driver.quit()"
   ]
  }
 ],
 "metadata": {
  "kernelspec": {
   "display_name": "Python 3 (ipykernel)",
   "language": "python",
   "name": "python3"
  },
  "language_info": {
   "codemirror_mode": {
    "name": "ipython",
    "version": 3
   },
   "file_extension": ".py",
   "mimetype": "text/x-python",
   "name": "python",
   "nbconvert_exporter": "python",
   "pygments_lexer": "ipython3",
   "version": "3.8.9"
  }
 },
 "nbformat": 4,
 "nbformat_minor": 5
}
